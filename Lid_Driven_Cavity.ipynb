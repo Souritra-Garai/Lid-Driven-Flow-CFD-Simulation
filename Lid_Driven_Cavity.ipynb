{
 "metadata": {
  "language_info": {
   "codemirror_mode": {
    "name": "ipython",
    "version": 3
   },
   "file_extension": ".py",
   "mimetype": "text/x-python",
   "name": "python",
   "nbconvert_exporter": "python",
   "pygments_lexer": "ipython3",
   "version": "3.6.9-final"
  },
  "orig_nbformat": 2,
  "kernelspec": {
   "name": "Python 3.6.9 64-bit",
   "display_name": "Python 3.6.9 64-bit",
   "metadata": {
    "interpreter": {
     "hash": "31f2aee4e71d21fbe5cf8b01ff0e069b9275f58929596ceb00d14d90e3e16cd6"
    }
   }
  }
 },
 "nbformat": 4,
 "nbformat_minor": 2,
 "cells": [
  {
   "cell_type": "code",
   "execution_count": null,
   "metadata": {},
   "outputs": [],
   "source": [
    "import numpy as np\n",
    "import matplotlib.pyplot as plt\n",
    "from Pressure_Poisson_Equation_Solver import setup_solvers\n",
    "from Quasi_Rhie_Chow import quasi_Rhie_Chow_iteration, converged\n",
    "from Boundary_Conditions import update_ghost_cell_pressure, update_ghost_cell_velocities"
   ]
  },
  {
   "cell_type": "code",
   "execution_count": null,
   "metadata": {},
   "outputs": [],
   "source": [
    "# Constants\n",
    "\n",
    "# Acceleration due to gravity\n",
    "g   = 0 # 9.8   # m/s2\n",
    "\n",
    "# Density of Fluid\n",
    "rho = 1.0   # kg/m3\n",
    "\n",
    "# Kinematic Viscosity\n",
    "nu  = 0.01"
   ]
  },
  {
   "cell_type": "code",
   "execution_count": null,
   "metadata": {},
   "outputs": [],
   "source": [
    "# Grid Generation\n",
    "M = 10\n",
    "\n",
    "Dx = Dy = 1.0 / M\n",
    "\n",
    "# M x M cells + Ghost cells on either boundaries\n",
    "x = np.linspace(-Dx/2, 1 + Dx/2, M+2)\n",
    "y = np.linspace(-Dy/2, 1 + Dy/2, M+2)"
   ]
  },
  {
   "cell_type": "code",
   "execution_count": null,
   "metadata": {},
   "outputs": [],
   "source": [
    "# Time Step\n",
    "Dt = 0.01\n",
    "\n",
    "# CFL Number\n",
    "num_CFL = Dt / Dx\n",
    "print('Courant Number : ', num_CFL)"
   ]
  },
  {
   "cell_type": "code",
   "execution_count": null,
   "metadata": {},
   "outputs": [],
   "source": [
    "u = np.zeros((1, M+2, M+2))\n",
    "v = np.zeros((1, M+2, M+2))\n",
    "\n",
    "p = np.zeros((1, M+2, M+2))\n",
    "p[0, 1:-1, 1:-1] = - rho * g * (y[1:-1] - y[-2])\n",
    "\n",
    "update_ghost_cell_velocities(u[0], v[0])\n",
    "update_ghost_cell_pressure(p[0], rho, g, Dx, Dy)"
   ]
  },
  {
   "cell_type": "code",
   "execution_count": null,
   "metadata": {},
   "outputs": [],
   "source": [
    "# Setting up pressure poisson eqn solver\n",
    "setup_solvers(M, Dx, Dy)"
   ]
  },
  {
   "cell_type": "code",
   "execution_count": null,
   "metadata": {},
   "outputs": [],
   "source": [
    "u_n = np.copy(u[0])\n",
    "v_n = np.copy(v[0])\n",
    "p_n = np.copy(p[0])\n",
    "\n",
    "u_np1, v_np1, p_np1 = quasi_Rhie_Chow_iteration(\n",
    "    u_n, v_n,\n",
    "    p_n,\n",
    "    rho, nu, g,\n",
    "    Dt,\n",
    "    Dx, Dy\n",
    ")\n",
    "\n",
    "u = np.append(u, [u_np1], axis=0)\n",
    "v = np.append(v, [v_np1], axis=0)\n",
    "p = np.append(p, [p_np1], axis=0)\n",
    "\n",
    "while not converged(u_n, v_n, p_n, u_np1, v_np1, p_np1) :\n",
    "\n",
    "    u_n = np.copy(u_np1)\n",
    "    v_n = np.copy(v_np1)\n",
    "    p_n = np.copy(p_np1)\n",
    "\n",
    "    u_np1, v_np1, p_np1 = quasi_Rhie_Chow_iteration(\n",
    "        u_n, v_n,\n",
    "        p_n,\n",
    "        rho, nu, g,\n",
    "        Dt,\n",
    "        Dx, Dy\n",
    "    )\n",
    "\n",
    "    u = np.append(u, [u_np1], axis=0)\n",
    "    v = np.append(v, [v_np1], axis=0)\n",
    "    p = np.append(p, [p_np1], axis=0)\n",
    "\n"
   ]
  },
  {
   "cell_type": "code",
   "execution_count": null,
   "metadata": {},
   "outputs": [],
   "source": [
    "solution_num = 'Solution_5'\n",
    "\n",
    "np.save(solution_num + '_U', u)\n",
    "np.save(solution_num + '_V', v)\n",
    "np.save(solution_num + '_p', p)\n"
   ]
  }
 ]
}